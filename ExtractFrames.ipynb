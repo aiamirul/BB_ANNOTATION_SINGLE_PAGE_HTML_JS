{
 "cells": [
  {
   "cell_type": "code",
   "execution_count": 14,
   "metadata": {},
   "outputs": [],
   "source": [
    "import cv2\n",
    "import os\n",
    "\n",
    "def save_frames_every_second(video_path):\n",
    "    # Get the base name without extension\n",
    "    base_name = os.path.splitext(os.path.basename(video_path))[0]\n",
    "    output_dir = base_name  # Directory named after the video file\n",
    "    # Create directory if it doesn't exist\n",
    "    os.makedirs(output_dir, exist_ok=True)\n",
    "    # Open video file\n",
    "    cap = cv2.VideoCapture(video_path)\n",
    "    if not cap.isOpened():\n",
    "        print(\"Error: Could not open video.\")\n",
    "        return\n",
    "    fps = int(cap.get(cv2.CAP_PROP_FPS))  # Frames per second\n",
    "    frame_count = 0\n",
    "    img_count = 0\n",
    "    \n",
    "    while True:\n",
    "        ret, frame = cap.read()\n",
    "        if not ret:\n",
    "            break\n",
    "        if frame_count % fps == 0:   # Save every 1 second\n",
    "            img_path = os.path.join(output_dir, f\"{output_dir}_{frame_count:04d}.jpg\")\n",
    "            cv2.imwrite(img_path, frame)\n",
    "        frame_count += 1\n",
    "    cap.release()\n",
    "    print(f\"Frames saved in: {output_dir}\")\n",
    "# Example usage:\n",
    "# save_frames_every_second(\"video.mp4\")\n"
   ]
  },
  {
   "cell_type": "code",
   "execution_count": 24,
   "metadata": {},
   "outputs": [
    {
     "name": "stdout",
     "output_type": "stream",
     "text": [
      "True\n",
      "COnnection SSD_B active\n",
      "Scanned /media/butterfly/HDD14TB/out_france/ 6 ['/media/butterfly/HDD14TB/out_france//011/2025020301104.mp4', '/media/butterfly/HDD14TB/out_france//011/2025020301102.mp4', '/media/butterfly/HDD14TB/out_france//011/2025020301108.mp4', '/media/butterfly/HDD14TB/out_france//011/2025020301106.mp4', '/media/butterfly/HDD14TB/out_france//011/2025020301103.mp4', '/media/butterfly/HDD14TB/out_france//011/2025020301105.mp4']\n"
     ]
    }
   ],
   "source": [
    "import os\n",
    "import glob\n",
    "runonlylist =[2025020301104,2025020301105,2025020301106]#2025020100204,2025020100205]#,2025020100206,2025020100208]\n",
    "network_path = \"\"\n",
    "# video_dir =\"/media/butterfly/HDD14TB/out_france_autostart\"\n",
    "raceid=runonlylist[0]\n",
    "TRK = str(raceid)[-5:-2]\n",
    "video_dir = \"/media/butterfly/HDD14TB/out_france/\" \n",
    "if os.path.exists(f\"{video_dir}/{TRK}/{raceid}.mp4\"):\n",
    "    racevideo = f\"{video_dir}/{TRK}/{raceid}.mp4\"\n",
    "    print(os.path.exists(f\"{network_path}/media\"))\n",
    "    print(\"COnnection SSD_B active\")\n",
    "    races = glob.glob(video_dir+f\"/{TRK}/*.mp4\")\n",
    "    print( \"Scanned\",video_dir,len(races),races)"
   ]
  },
  {
   "cell_type": "code",
   "execution_count": 25,
   "metadata": {},
   "outputs": [
    {
     "name": "stdout",
     "output_type": "stream",
     "text": [
      "Frames saved in: 2025020301105\n"
     ]
    }
   ],
   "source": [
    "for rr in runonlylist:  \n",
    "    TRK = str(raceid)[-5:-2]\n",
    "    save_frames_every_second(f\"/media/butterfly/HDD14TB/out_france/{TRK}/{rr}_DRONE.mp4\")"
   ]
  },
  {
   "cell_type": "code",
   "execution_count": null,
   "metadata": {},
   "outputs": [],
   "source": []
  },
  {
   "cell_type": "code",
   "execution_count": null,
   "metadata": {},
   "outputs": [],
   "source": []
  }
 ],
 "metadata": {
  "kernelspec": {
   "display_name": ".venv",
   "language": "python",
   "name": "python3"
  },
  "language_info": {
   "codemirror_mode": {
    "name": "ipython",
    "version": 3
   },
   "file_extension": ".py",
   "mimetype": "text/x-python",
   "name": "python",
   "nbconvert_exporter": "python",
   "pygments_lexer": "ipython3",
   "version": "3.12.3"
  }
 },
 "nbformat": 4,
 "nbformat_minor": 2
}
